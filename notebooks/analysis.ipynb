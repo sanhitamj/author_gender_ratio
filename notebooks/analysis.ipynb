{
 "cells": [
  {
   "cell_type": "markdown",
   "id": "d883fbf3-c12e-4df8-99bd-096fd7e26185",
   "metadata": {},
   "source": [
    "## Analysis for the downloaded Author and recommended author data.\n",
    "\n",
    "Files used -\n",
    "\n",
    "1. author_data - file with the names, author_url, image_url, about data.\n",
    "2. author_mapping - which authors appear on which author's page.\n",
    "    * column 1 - the author whose page is scraped.\n",
    "    * column 2 - all the authors that appeared on the page of the author from column 1.\n",
    "    \n",
    "Colunm 1 after dropping duplicated would give some gender ratio. Column 2 (including\n",
    "duplicates) will give some other gender ratio. As README.md suggests, these two ratios\n",
    "would not match. Unless - \n",
    "1. The Nielson data doesn't generalise OR\n",
    "2. Amazon recommendations balance the gender ratio."
   ]
  },
  {
   "cell_type": "code",
   "execution_count": 1,
   "id": "397ededf-0a3c-499c-a1fd-ce4ebad14fe3",
   "metadata": {},
   "outputs": [],
   "source": [
    "from collections import Counter\n",
    "import pandas as pd\n",
    "import sys\n",
    "\n",
    "sys.path.append('/home/sanhita/github/author_gender_ratio/')\n",
    "from utils import extract_first_name, select_higher_freq_gender\n",
    "\n",
    "csv_path = \"../files/\"\n",
    "\n",
    "%reload_ext autoreload\n",
    "%autoreload 2"
   ]
  },
  {
   "cell_type": "markdown",
   "id": "5c746a63-ccfb-4e8d-907a-fa3d402cc045",
   "metadata": {},
   "source": [
    "### Author Data \n",
    "Author name, url, img_url, about"
   ]
  },
  {
   "cell_type": "code",
   "execution_count": 2,
   "id": "38a49919-0fa5-407d-873c-8fa707814fcd",
   "metadata": {},
   "outputs": [
    {
     "name": "stdout",
     "output_type": "stream",
     "text": [
      "(30980, 4)\n"
     ]
    },
    {
     "data": {
      "text/html": [
       "<div>\n",
       "<style scoped>\n",
       "    .dataframe tbody tr th:only-of-type {\n",
       "        vertical-align: middle;\n",
       "    }\n",
       "\n",
       "    .dataframe tbody tr th {\n",
       "        vertical-align: top;\n",
       "    }\n",
       "\n",
       "    .dataframe thead th {\n",
       "        text-align: right;\n",
       "    }\n",
       "</style>\n",
       "<table border=\"1\" class=\"dataframe\">\n",
       "  <thead>\n",
       "    <tr style=\"text-align: right;\">\n",
       "      <th></th>\n",
       "      <th>author</th>\n",
       "      <th>author_url</th>\n",
       "      <th>img_url</th>\n",
       "      <th>about</th>\n",
       "    </tr>\n",
       "  </thead>\n",
       "  <tbody>\n",
       "    <tr>\n",
       "      <th>0</th>\n",
       "      <td>Chimamanda-Ngozi-Adichie</td>\n",
       "      <td>Chimamanda-Ngozi-Adichie/e/B00PODW5UG</td>\n",
       "      <td>https://m.media-amazon.com/images/S/amzn-autho...</td>\n",
       "      <td>CHIMAMANDA NGOZI ADICHIE's work has appeared i...</td>\n",
       "    </tr>\n",
       "    <tr>\n",
       "      <th>1</th>\n",
       "      <td>Bethel Joshua</td>\n",
       "      <td>/Bethel-Joshua/e/B0B9FP3WCG</td>\n",
       "      <td>https://m.media-amazon.com/images/S/amzn-autho...</td>\n",
       "      <td>NaN</td>\n",
       "    </tr>\n",
       "    <tr>\n",
       "      <th>2</th>\n",
       "      <td>Jhumpa Lahiri</td>\n",
       "      <td>/Jhumpa-Lahiri/e/B001H6GTG0</td>\n",
       "      <td>https://m.media-amazon.com/images/I/61-3-dPgGf...</td>\n",
       "      <td>Jhumpa Lahiri was born in London and raised in...</td>\n",
       "    </tr>\n",
       "    <tr>\n",
       "      <th>3</th>\n",
       "      <td>Barbara A. Mowat</td>\n",
       "      <td>/Barbara-A-Mowat/e/B001IOH98I</td>\n",
       "      <td>https://m.media-amazon.com/images/I/51z8ocAA75...</td>\n",
       "      <td>Barbara A. Mowat (1934-2017) was the Director ...</td>\n",
       "    </tr>\n",
       "    <tr>\n",
       "      <th>4</th>\n",
       "      <td>Marjane Satrapi</td>\n",
       "      <td>/Marjane-Satrapi/e/B001IGFN9I</td>\n",
       "      <td>https://m.media-amazon.com/images/I/51z6DF+kRp...</td>\n",
       "      <td>Marjane Satrapi was born in 1969 in Rasht, Ira...</td>\n",
       "    </tr>\n",
       "  </tbody>\n",
       "</table>\n",
       "</div>"
      ],
      "text/plain": [
       "                     author                             author_url  \\\n",
       "0  Chimamanda-Ngozi-Adichie  Chimamanda-Ngozi-Adichie/e/B00PODW5UG   \n",
       "1             Bethel Joshua            /Bethel-Joshua/e/B0B9FP3WCG   \n",
       "2             Jhumpa Lahiri            /Jhumpa-Lahiri/e/B001H6GTG0   \n",
       "3          Barbara A. Mowat          /Barbara-A-Mowat/e/B001IOH98I   \n",
       "4           Marjane Satrapi          /Marjane-Satrapi/e/B001IGFN9I   \n",
       "\n",
       "                                             img_url  \\\n",
       "0  https://m.media-amazon.com/images/S/amzn-autho...   \n",
       "1  https://m.media-amazon.com/images/S/amzn-autho...   \n",
       "2  https://m.media-amazon.com/images/I/61-3-dPgGf...   \n",
       "3  https://m.media-amazon.com/images/I/51z8ocAA75...   \n",
       "4  https://m.media-amazon.com/images/I/51z6DF+kRp...   \n",
       "\n",
       "                                               about  \n",
       "0  CHIMAMANDA NGOZI ADICHIE's work has appeared i...  \n",
       "1                                                NaN  \n",
       "2  Jhumpa Lahiri was born in London and raised in...  \n",
       "3  Barbara A. Mowat (1934-2017) was the Director ...  \n",
       "4  Marjane Satrapi was born in 1969 in Rasht, Ira...  "
      ]
     },
     "execution_count": 2,
     "metadata": {},
     "output_type": "execute_result"
    }
   ],
   "source": [
    "df_data = pd.read_csv(f'{csv_path}author_data.csv')\n",
    "print(df_data.shape)\n",
    "df_data.head()"
   ]
  },
  {
   "cell_type": "markdown",
   "id": "e87dc303-9101-4bcd-b5d9-799d8579f59a",
   "metadata": {},
   "source": [
    "## Author mapping\n",
    "Author in the first column, mapped with those in the second column"
   ]
  },
  {
   "cell_type": "code",
   "execution_count": 3,
   "id": "652f48fa-d618-4d35-a792-a044da824a14",
   "metadata": {},
   "outputs": [
    {
     "data": {
      "text/plain": [
       "(10996, 203161)"
      ]
     },
     "execution_count": 3,
     "metadata": {},
     "output_type": "execute_result"
    }
   ],
   "source": [
    "df_map = pd.read_csv(f'{csv_path}author_mapping.csv')\n",
    "df_map[df_map.columns[0]].nunique(), len(df_map)"
   ]
  },
  {
   "cell_type": "code",
   "execution_count": 4,
   "id": "f9570d37-f37f-4b72-934a-05eedd35ea99",
   "metadata": {},
   "outputs": [
    {
     "data": {
      "text/plain": [
       "18.47590032739178"
      ]
     },
     "execution_count": 4,
     "metadata": {},
     "output_type": "execute_result"
    }
   ],
   "source": [
    "len(df_map) / df_map[df_map.columns[0]].nunique()"
   ]
  },
  {
   "cell_type": "code",
   "execution_count": 5,
   "id": "53c3083b-a6f8-4a07-8bec-7534acd02865",
   "metadata": {},
   "outputs": [
    {
     "name": "stdout",
     "output_type": "stream",
     "text": [
      "<class 'pandas.core.frame.DataFrame'>\n",
      "RangeIndex: 203161 entries, 0 to 203160\n",
      "Data columns (total 2 columns):\n",
      " #   Column         Non-Null Count   Dtype \n",
      "---  ------         --------------   ----- \n",
      " 0   author         203161 non-null  object\n",
      " 1   mapped_author  203161 non-null  object\n",
      "dtypes: object(2)\n",
      "memory usage: 3.1+ MB\n"
     ]
    }
   ],
   "source": [
    "df_map.info()"
   ]
  },
  {
   "cell_type": "code",
   "execution_count": 6,
   "id": "fba2c193-ce6c-419c-a257-6cb754a37d66",
   "metadata": {},
   "outputs": [
    {
     "data": {
      "text/plain": [
       "10996"
      ]
     },
     "execution_count": 6,
     "metadata": {},
     "output_type": "execute_result"
    }
   ],
   "source": [
    "# The number of authors for whom author mapping is scraped\n",
    "df_map['author'].nunique()"
   ]
  },
  {
   "cell_type": "code",
   "execution_count": 7,
   "id": "f50e7a26-86e2-4d9c-8b51-ee1ce02c03f5",
   "metadata": {},
   "outputs": [
    {
     "name": "stdout",
     "output_type": "stream",
     "text": [
      "<class 'pandas.core.frame.DataFrame'>\n",
      "RangeIndex: 30980 entries, 0 to 30979\n",
      "Data columns (total 4 columns):\n",
      " #   Column      Non-Null Count  Dtype \n",
      "---  ------      --------------  ----- \n",
      " 0   author      30980 non-null  object\n",
      " 1   author_url  29909 non-null  object\n",
      " 2   img_url     30980 non-null  object\n",
      " 3   about       10996 non-null  object\n",
      "dtypes: object(4)\n",
      "memory usage: 968.2+ KB\n"
     ]
    }
   ],
   "source": [
    "df_data.info()"
   ]
  },
  {
   "cell_type": "markdown",
   "id": "2efdb423-c842-4bc6-a641-52f208b1eb4a",
   "metadata": {},
   "source": [
    "## Extract the author gender from their about info."
   ]
  },
  {
   "cell_type": "code",
   "execution_count": 8,
   "id": "869d49cf-de14-4ec5-9a8b-f3464db58421",
   "metadata": {},
   "outputs": [
    {
     "data": {
      "text/plain": [
       "537"
      ]
     },
     "execution_count": 8,
     "metadata": {},
     "output_type": "execute_result"
    }
   ],
   "source": [
    "(df_data['about'] == 'None').sum()"
   ]
  },
  {
   "cell_type": "code",
   "execution_count": 9,
   "id": "74da040b-e708-46fc-b0c8-047c81c3a521",
   "metadata": {},
   "outputs": [
    {
     "data": {
      "text/html": [
       "<div>\n",
       "<style scoped>\n",
       "    .dataframe tbody tr th:only-of-type {\n",
       "        vertical-align: middle;\n",
       "    }\n",
       "\n",
       "    .dataframe tbody tr th {\n",
       "        vertical-align: top;\n",
       "    }\n",
       "\n",
       "    .dataframe thead th {\n",
       "        text-align: right;\n",
       "    }\n",
       "</style>\n",
       "<table border=\"1\" class=\"dataframe\">\n",
       "  <thead>\n",
       "    <tr style=\"text-align: right;\">\n",
       "      <th></th>\n",
       "      <th>author</th>\n",
       "      <th>author_url</th>\n",
       "      <th>img_url</th>\n",
       "      <th>about</th>\n",
       "    </tr>\n",
       "  </thead>\n",
       "  <tbody>\n",
       "    <tr>\n",
       "      <th>21</th>\n",
       "      <td>Art Spiegelman</td>\n",
       "      <td>/Art-Spiegelman/e/B000APXXEK</td>\n",
       "      <td>https://m.media-amazon.com/images/I/31BQEqvZpC...</td>\n",
       "      <td>None</td>\n",
       "    </tr>\n",
       "    <tr>\n",
       "      <th>60</th>\n",
       "      <td>MARCO PEDULLA</td>\n",
       "      <td>/MARCO-PEDULLA/e/B01MQ0WRNZ</td>\n",
       "      <td>https://m.media-amazon.com/images/S/amzn-autho...</td>\n",
       "      <td>None</td>\n",
       "    </tr>\n",
       "    <tr>\n",
       "      <th>93</th>\n",
       "      <td>Henry Louis Gates Jr.</td>\n",
       "      <td>/Henry-Louis-Gates-Jr/e/B000APNYEO</td>\n",
       "      <td>https://m.media-amazon.com/images/I/31d0yI9pxZ...</td>\n",
       "      <td>None</td>\n",
       "    </tr>\n",
       "    <tr>\n",
       "      <th>110</th>\n",
       "      <td>Ayad Akhtar</td>\n",
       "      <td>/Ayad-Akhtar/e/B0052XYGXM</td>\n",
       "      <td>https://m.media-amazon.com/images/S/amzn-autho...</td>\n",
       "      <td>None</td>\n",
       "    </tr>\n",
       "    <tr>\n",
       "      <th>141</th>\n",
       "      <td>Gerry Duggan</td>\n",
       "      <td>/Gerry-Duggan/e/B007XVQ05S</td>\n",
       "      <td>https://m.media-amazon.com/images/S/amzn-autho...</td>\n",
       "      <td>None</td>\n",
       "    </tr>\n",
       "    <tr>\n",
       "      <th>...</th>\n",
       "      <td>...</td>\n",
       "      <td>...</td>\n",
       "      <td>...</td>\n",
       "      <td>...</td>\n",
       "    </tr>\n",
       "    <tr>\n",
       "      <th>21303</th>\n",
       "      <td>Norman Goldwasser PhD</td>\n",
       "      <td>/Norman-Goldwasser-PhD/e/B094DTS5XZ</td>\n",
       "      <td>https://m.media-amazon.com/images/S/amzn-autho...</td>\n",
       "      <td>None</td>\n",
       "    </tr>\n",
       "    <tr>\n",
       "      <th>21319</th>\n",
       "      <td>Ilhan Omar</td>\n",
       "      <td>/Ilhan-Omar/e/B085XLN9LS</td>\n",
       "      <td>https://m.media-amazon.com/images/I/61eHl4zJJz...</td>\n",
       "      <td>None</td>\n",
       "    </tr>\n",
       "    <tr>\n",
       "      <th>21328</th>\n",
       "      <td>Raffi Garnighian</td>\n",
       "      <td>/Raffi-Garnighian/e/B07QGRR5WS</td>\n",
       "      <td>https://m.media-amazon.com/images/S/amzn-autho...</td>\n",
       "      <td>None</td>\n",
       "    </tr>\n",
       "    <tr>\n",
       "      <th>21392</th>\n",
       "      <td>Theodore Dimon</td>\n",
       "      <td>/Theodore-Dimon/e/B001JRZPTY</td>\n",
       "      <td>https://m.media-amazon.com/images/I/71UlD6xFcS...</td>\n",
       "      <td>None</td>\n",
       "    </tr>\n",
       "    <tr>\n",
       "      <th>21456</th>\n",
       "      <td>Joan Garry</td>\n",
       "      <td>/Joan-Garry/e/B01NCU6I44</td>\n",
       "      <td>https://m.media-amazon.com/images/S/amzn-autho...</td>\n",
       "      <td>None</td>\n",
       "    </tr>\n",
       "  </tbody>\n",
       "</table>\n",
       "<p>537 rows × 4 columns</p>\n",
       "</div>"
      ],
      "text/plain": [
       "                      author                           author_url  \\\n",
       "21            Art Spiegelman         /Art-Spiegelman/e/B000APXXEK   \n",
       "60             MARCO PEDULLA          /MARCO-PEDULLA/e/B01MQ0WRNZ   \n",
       "93     Henry Louis Gates Jr.   /Henry-Louis-Gates-Jr/e/B000APNYEO   \n",
       "110              Ayad Akhtar            /Ayad-Akhtar/e/B0052XYGXM   \n",
       "141             Gerry Duggan           /Gerry-Duggan/e/B007XVQ05S   \n",
       "...                      ...                                  ...   \n",
       "21303  Norman Goldwasser PhD  /Norman-Goldwasser-PhD/e/B094DTS5XZ   \n",
       "21319             Ilhan Omar             /Ilhan-Omar/e/B085XLN9LS   \n",
       "21328       Raffi Garnighian       /Raffi-Garnighian/e/B07QGRR5WS   \n",
       "21392         Theodore Dimon         /Theodore-Dimon/e/B001JRZPTY   \n",
       "21456             Joan Garry             /Joan-Garry/e/B01NCU6I44   \n",
       "\n",
       "                                                 img_url about  \n",
       "21     https://m.media-amazon.com/images/I/31BQEqvZpC...  None  \n",
       "60     https://m.media-amazon.com/images/S/amzn-autho...  None  \n",
       "93     https://m.media-amazon.com/images/I/31d0yI9pxZ...  None  \n",
       "110    https://m.media-amazon.com/images/S/amzn-autho...  None  \n",
       "141    https://m.media-amazon.com/images/S/amzn-autho...  None  \n",
       "...                                                  ...   ...  \n",
       "21303  https://m.media-amazon.com/images/S/amzn-autho...  None  \n",
       "21319  https://m.media-amazon.com/images/I/61eHl4zJJz...  None  \n",
       "21328  https://m.media-amazon.com/images/S/amzn-autho...  None  \n",
       "21392  https://m.media-amazon.com/images/I/71UlD6xFcS...  None  \n",
       "21456  https://m.media-amazon.com/images/S/amzn-autho...  None  \n",
       "\n",
       "[537 rows x 4 columns]"
      ]
     },
     "execution_count": 9,
     "metadata": {},
     "output_type": "execute_result"
    }
   ],
   "source": [
    "df_data[df_data['about'] == 'None']"
   ]
  },
  {
   "cell_type": "code",
   "execution_count": 10,
   "id": "ea09fcc2-d152-4fbb-ab83-30f452169a56",
   "metadata": {},
   "outputs": [],
   "source": [
    "df_data.loc[df_data['about'].notna(), 'gender'] = df_data[df_data['about'].notna()]['about'].apply(select_higher_freq_gender)"
   ]
  },
  {
   "cell_type": "markdown",
   "id": "56419737-235e-424b-b146-5198cfa59cf2",
   "metadata": {},
   "source": [
    "### Gender Ratio for the scraped authors (excludes double counting)"
   ]
  },
  {
   "cell_type": "code",
   "execution_count": 11,
   "id": "57da5104-2085-438c-9414-df5eb736ebc6",
   "metadata": {},
   "outputs": [
    {
     "data": {
      "text/plain": [
       "1.0    0.518156\n",
       "0.0    0.481844\n",
       "Name: gender, dtype: float64"
      ]
     },
     "execution_count": 11,
     "metadata": {},
     "output_type": "execute_result"
    }
   ],
   "source": [
    "df_data['gender'].value_counts(normalize=True, dropna=True)"
   ]
  },
  {
   "cell_type": "markdown",
   "id": "cb8f06e6-750f-4d62-96db-1d1c30fa96bd",
   "metadata": {},
   "source": [
    "### Establishing genders of the authors recommended "
   ]
  },
  {
   "cell_type": "code",
   "execution_count": 12,
   "id": "bf1cc535-c1a3-443b-a59f-b5e01ac4c868",
   "metadata": {},
   "outputs": [],
   "source": [
    "df_data.loc[:, 'first_name'] = df_data['author'].apply(extract_first_name)"
   ]
  },
  {
   "cell_type": "code",
   "execution_count": 13,
   "id": "07f2ed0b-c5a3-4de2-a01b-d865a8e67c9f",
   "metadata": {},
   "outputs": [
    {
     "data": {
      "text/plain": [
       "(82, 1457, 940)"
      ]
     },
     "execution_count": 13,
     "metadata": {},
     "output_type": "execute_result"
    }
   ],
   "source": [
    "gender_notna_filt = df_data['gender'].notna()\n",
    "\n",
    "women = df_data[(df_data['first_name'].notna()) &\n",
    "                (df_data['gender'] == 1)\n",
    "               ]['first_name'].values\n",
    "\n",
    "men = df_data[(df_data['first_name'].notna()) &\n",
    "              (df_data['gender'] == 0)\n",
    "             ]['first_name'].values\n",
    "\n",
    "\n",
    "len(set(women).intersection(set(men))), len(set(women)), len(set(men))"
   ]
  },
  {
   "cell_type": "code",
   "execution_count": 14,
   "id": "727e1c8e-965a-4c2b-a4a7-6ca14011be09",
   "metadata": {},
   "outputs": [],
   "source": [
    "# The names for which both confusion_setders were identified\n",
    "confusion_set = set(women).intersection(set(men))"
   ]
  },
  {
   "cell_type": "code",
   "execution_count": 15,
   "id": "bdf8e5b1-5520-46bb-bc80-986d432bf27e",
   "metadata": {},
   "outputs": [
    {
     "data": {
      "text/html": [
       "<div>\n",
       "<style scoped>\n",
       "    .dataframe tbody tr th:only-of-type {\n",
       "        vertical-align: middle;\n",
       "    }\n",
       "\n",
       "    .dataframe tbody tr th {\n",
       "        vertical-align: top;\n",
       "    }\n",
       "\n",
       "    .dataframe thead th {\n",
       "        text-align: right;\n",
       "    }\n",
       "</style>\n",
       "<table border=\"1\" class=\"dataframe\">\n",
       "  <thead>\n",
       "    <tr style=\"text-align: right;\">\n",
       "      <th></th>\n",
       "      <th>first_name</th>\n",
       "      <th>gender</th>\n",
       "    </tr>\n",
       "  </thead>\n",
       "  <tbody>\n",
       "    <tr>\n",
       "      <th>3</th>\n",
       "      <td>barbara</td>\n",
       "      <td>1.0</td>\n",
       "    </tr>\n",
       "    <tr>\n",
       "      <th>7</th>\n",
       "      <td>james</td>\n",
       "      <td>0.0</td>\n",
       "    </tr>\n",
       "    <tr>\n",
       "      <th>24</th>\n",
       "      <td>george</td>\n",
       "      <td>0.0</td>\n",
       "    </tr>\n",
       "    <tr>\n",
       "      <th>42</th>\n",
       "      <td>barbara</td>\n",
       "      <td>1.0</td>\n",
       "    </tr>\n",
       "    <tr>\n",
       "      <th>63</th>\n",
       "      <td>peter</td>\n",
       "      <td>NaN</td>\n",
       "    </tr>\n",
       "    <tr>\n",
       "      <th>...</th>\n",
       "      <td>...</td>\n",
       "      <td>...</td>\n",
       "    </tr>\n",
       "    <tr>\n",
       "      <th>30929</th>\n",
       "      <td>david</td>\n",
       "      <td>NaN</td>\n",
       "    </tr>\n",
       "    <tr>\n",
       "      <th>30930</th>\n",
       "      <td>charlie</td>\n",
       "      <td>NaN</td>\n",
       "    </tr>\n",
       "    <tr>\n",
       "      <th>30936</th>\n",
       "      <td>peter</td>\n",
       "      <td>NaN</td>\n",
       "    </tr>\n",
       "    <tr>\n",
       "      <th>30969</th>\n",
       "      <td>michael</td>\n",
       "      <td>NaN</td>\n",
       "    </tr>\n",
       "    <tr>\n",
       "      <th>30974</th>\n",
       "      <td>chris</td>\n",
       "      <td>NaN</td>\n",
       "    </tr>\n",
       "  </tbody>\n",
       "</table>\n",
       "<p>3775 rows × 2 columns</p>\n",
       "</div>"
      ],
      "text/plain": [
       "      first_name  gender\n",
       "3        barbara     1.0\n",
       "7          james     0.0\n",
       "24        george     0.0\n",
       "42       barbara     1.0\n",
       "63         peter     NaN\n",
       "...          ...     ...\n",
       "30929      david     NaN\n",
       "30930    charlie     NaN\n",
       "30936      peter     NaN\n",
       "30969    michael     NaN\n",
       "30974      chris     NaN\n",
       "\n",
       "[3775 rows x 2 columns]"
      ]
     },
     "execution_count": 15,
     "metadata": {},
     "output_type": "execute_result"
    }
   ],
   "source": [
    "df_data[df_data['first_name'].isin(confusion_set)][['first_name', 'gender']]"
   ]
  },
  {
   "cell_type": "code",
   "execution_count": 16,
   "id": "47b98a54-929f-4bc0-a018-b2f9e665f807",
   "metadata": {},
   "outputs": [
    {
     "data": {
      "text/plain": [
       "{'lee': 0.0,\n",
       " 'amy': 1.0,\n",
       " 'carla': 1.0,\n",
       " 'michael': 0.0,\n",
       " 'amal': 1.0,\n",
       " 'pat': 1.0,\n",
       " 'kami': 1.0,\n",
       " 'jaime': 1.0,\n",
       " 'swami': 0.0,\n",
       " 'britt': 0.0,\n",
       " 'robin': 1.0,\n",
       " 'codi': 1.0,\n",
       " 'nikki': 0.0,\n",
       " 'diana': 1.0,\n",
       " 'ali': 1.0,\n",
       " 'sheryl': 1.0,\n",
       " 'chris': 0.0,\n",
       " 'dale': 0.0,\n",
       " 'craig': 0.0,\n",
       " 'morgan': 1.0,\n",
       " 'taylor': 1.0,\n",
       " 'kit': 1.0,\n",
       " 'joel': 0.0,\n",
       " 'james': 0.0,\n",
       " 'devin': 1.0,\n",
       " 'barbara': 1.0,\n",
       " 'janice': 1.0,\n",
       " 'colin': 0.0,\n",
       " 'riley': 1.0,\n",
       " 'loren': 0.0,\n",
       " 'lynn': 1.0,\n",
       " 'shawn': 0.0,\n",
       " 'rory': 0.0,\n",
       " 'harriet': 1.0,\n",
       " 'david': 0.0,\n",
       " 'terry': 0.0,\n",
       " 'shea': 1.0,\n",
       " 'jean': 1.0,\n",
       " 'alex': 0.0,\n",
       " 'theo': 0.0,\n",
       " 'bev': 0.0,\n",
       " 'kris': 1.0,\n",
       " 'caroline': 1.0,\n",
       " 'jesse': 0.0,\n",
       " 'jordan': 0.0,\n",
       " 'kimberly': 1.0,\n",
       " 'erika': 1.0,\n",
       " 'bryce': 1.0,\n",
       " 'cole': 0.0,\n",
       " 'parker': 0.0,\n",
       " 'tomi': 1.0,\n",
       " 'noelle': 1.0,\n",
       " 'jan': 1.0,\n",
       " 'gregg': 1.0,\n",
       " 'peter': 0.0,\n",
       " 'skye': 0.0,\n",
       " 'sam': 0.0,\n",
       " 'mel': 0.0,\n",
       " 'carey': 0.0,\n",
       " 'bryan': 0.0,\n",
       " 'tracy': 1.0,\n",
       " 'toby': 1.0,\n",
       " 'jess': 1.0,\n",
       " 'jeffrey': 0.0,\n",
       " 'kim': 1.0,\n",
       " 'charlie': 0.0,\n",
       " 'rhys': 1.0,\n",
       " 'tessa': 1.0,\n",
       " 'kai': 0.0,\n",
       " 'jay': 0.0,\n",
       " 'matthew': 0.0,\n",
       " 'marty': 0.0,\n",
       " 'kelly': 1.0,\n",
       " 'kathryn': 1.0,\n",
       " 'carol': 1.0,\n",
       " 'brad': 0.0,\n",
       " 'carter': 0.0,\n",
       " 'jamie': 1.0,\n",
       " 'alexis': 1.0,\n",
       " 'lane': 0.0,\n",
       " 'linda': 1.0,\n",
       " 'george': 0.0}"
      ]
     },
     "execution_count": 16,
     "metadata": {},
     "output_type": "execute_result"
    }
   ],
   "source": [
    "gender_dict = {}\n",
    "for name in confusion_set:\n",
    "     value_counts = df_data[df_data['first_name'] == name]['gender'].value_counts()\n",
    "     gender_dict[name] = value_counts.idxmax()\n",
    "        \n",
    "gender_dict"
   ]
  },
  {
   "cell_type": "markdown",
   "id": "b1ca0708-d6b6-400e-ac3e-a3510cdcd1b6",
   "metadata": {},
   "source": [
    "### One special case for names"
   ]
  },
  {
   "cell_type": "code",
   "execution_count": 17,
   "id": "7460d593-8170-4170-84bf-48a96ccffd93",
   "metadata": {},
   "outputs": [
    {
     "name": "stdout",
     "output_type": "stream",
     "text": [
      "/Lane-Pederson/e/B0093OSJY8\n",
      "/Lane-Smith/e/B000APX5G6\n",
      "/Lane-R-Warenski/e/B01FWI6J2C\n",
      "/Lane-Rebelo/e/B07CCKR9SP\n",
      "/Lane-Walker/e/B09KYJ6WVM\n",
      "/Lane-Hart/e/B00J22NZTA\n",
      "/Lane-Wilcken/e/B005ONRYLG\n"
     ]
    }
   ],
   "source": [
    "for url in df_data[df_data['first_name'] == 'lane']['author_url']:\n",
    "    print(url)"
   ]
  },
  {
   "cell_type": "code",
   "execution_count": 18,
   "id": "0b85769b-6ad6-4e4e-ae05-c3c7f6c14f1d",
   "metadata": {},
   "outputs": [
    {
     "name": "stdout",
     "output_type": "stream",
     "text": [
      "https://m.media-amazon.com/images/I/61VC7W7KSjL.jpg\n",
      "https://m.media-amazon.com/images/S/amzn-author-media-prod/qqmn9cq193ot5t7a1ivq572dcs.jpg\n",
      "https://m.media-amazon.com/images/I/81JriE1pZpL.jpg\n",
      "https://m.media-amazon.com/images/S/amzn-author-media-prod/4s2irr7p01kpdlgjdn79nmh0mi.jpg\n",
      "https://m.media-amazon.com/images/S/amzn-author-media-prod/8ccuvu3kf1nrhb42bsmir5vo3i.jpg\n",
      "https://m.media-amazon.com/images/S/amzn-author-media-prod/2bjoqg4u4nm2snut2r05g75rq6.jpg\n",
      "https://m.media-amazon.com/images/I/71Vm4ERaYJL.jpg\n"
     ]
    }
   ],
   "source": [
    "for url in df_data[df_data['first_name'] == 'lane']['img_url']:\n",
    "    print(url)"
   ]
  },
  {
   "cell_type": "code",
   "execution_count": 19,
   "id": "85372f4c-1f58-448e-b4ea-f8e5f2aed2e3",
   "metadata": {},
   "outputs": [
    {
     "data": {
      "text/html": [
       "<div>\n",
       "<style scoped>\n",
       "    .dataframe tbody tr th:only-of-type {\n",
       "        vertical-align: middle;\n",
       "    }\n",
       "\n",
       "    .dataframe tbody tr th {\n",
       "        vertical-align: top;\n",
       "    }\n",
       "\n",
       "    .dataframe thead th {\n",
       "        text-align: right;\n",
       "    }\n",
       "</style>\n",
       "<table border=\"1\" class=\"dataframe\">\n",
       "  <thead>\n",
       "    <tr style=\"text-align: right;\">\n",
       "      <th></th>\n",
       "      <th>first_name</th>\n",
       "      <th>gender</th>\n",
       "    </tr>\n",
       "  </thead>\n",
       "  <tbody>\n",
       "    <tr>\n",
       "      <th>0</th>\n",
       "      <td>chimamanda</td>\n",
       "      <td>1.0</td>\n",
       "    </tr>\n",
       "    <tr>\n",
       "      <th>2</th>\n",
       "      <td>jhumpa</td>\n",
       "      <td>1.0</td>\n",
       "    </tr>\n",
       "    <tr>\n",
       "      <th>4</th>\n",
       "      <td>marjane</td>\n",
       "      <td>1.0</td>\n",
       "    </tr>\n",
       "    <tr>\n",
       "      <th>6</th>\n",
       "      <td>yaa</td>\n",
       "      <td>1.0</td>\n",
       "    </tr>\n",
       "    <tr>\n",
       "      <th>8</th>\n",
       "      <td>louise</td>\n",
       "      <td>1.0</td>\n",
       "    </tr>\n",
       "    <tr>\n",
       "      <th>...</th>\n",
       "      <td>...</td>\n",
       "      <td>...</td>\n",
       "    </tr>\n",
       "    <tr>\n",
       "      <th>21440</th>\n",
       "      <td>sarah</td>\n",
       "      <td>1.0</td>\n",
       "    </tr>\n",
       "    <tr>\n",
       "      <th>21444</th>\n",
       "      <td>meg</td>\n",
       "      <td>1.0</td>\n",
       "    </tr>\n",
       "    <tr>\n",
       "      <th>21445</th>\n",
       "      <td>thomas</td>\n",
       "      <td>0.0</td>\n",
       "    </tr>\n",
       "    <tr>\n",
       "      <th>21448</th>\n",
       "      <td>sidonie</td>\n",
       "      <td>1.0</td>\n",
       "    </tr>\n",
       "    <tr>\n",
       "      <th>21450</th>\n",
       "      <td>stuart</td>\n",
       "      <td>0.0</td>\n",
       "    </tr>\n",
       "  </tbody>\n",
       "</table>\n",
       "<p>6761 rows × 2 columns</p>\n",
       "</div>"
      ],
      "text/plain": [
       "       first_name  gender\n",
       "0      chimamanda     1.0\n",
       "2          jhumpa     1.0\n",
       "4         marjane     1.0\n",
       "6             yaa     1.0\n",
       "8          louise     1.0\n",
       "...           ...     ...\n",
       "21440       sarah     1.0\n",
       "21444         meg     1.0\n",
       "21445      thomas     0.0\n",
       "21448     sidonie     1.0\n",
       "21450      stuart     0.0\n",
       "\n",
       "[6761 rows x 2 columns]"
      ]
     },
     "execution_count": 19,
     "metadata": {},
     "output_type": "execute_result"
    }
   ],
   "source": [
    "df_data[\n",
    "    (~df_data['first_name'].isin(confusion_set)) &\n",
    "    (df_data['gender'].notna())\n",
    "][['first_name', 'gender']]"
   ]
  },
  {
   "cell_type": "code",
   "execution_count": 20,
   "id": "18b2d57b-3197-490f-b826-019e9e8c5d41",
   "metadata": {},
   "outputs": [],
   "source": [
    "for key, val in df_data[\n",
    "    (~df_data['first_name'].isin(confusion_set)) &\n",
    "    (df_data['gender'].notna())\n",
    "][['first_name', 'gender']].iterrows():\n",
    "    gender_dict[val.first_name] = val.gender"
   ]
  },
  {
   "cell_type": "code",
   "execution_count": 21,
   "id": "d0db788d-c7d9-4717-90a6-5f934f40814d",
   "metadata": {},
   "outputs": [
    {
     "name": "stdout",
     "output_type": "stream",
     "text": [
      "1418 898\n"
     ]
    }
   ],
   "source": [
    "women = 0\n",
    "men = 0\n",
    "for key, val in gender_dict.items():\n",
    "    if val == 1:\n",
    "        women += 1\n",
    "    if val == 0:\n",
    "        men += 1\n",
    "print(women, men)"
   ]
  },
  {
   "cell_type": "code",
   "execution_count": 22,
   "id": "dee1391a-d63b-4268-bdeb-b00b3f72e030",
   "metadata": {},
   "outputs": [
    {
     "data": {
      "text/plain": [
       "898"
      ]
     },
     "execution_count": 22,
     "metadata": {},
     "output_type": "execute_result"
    }
   ],
   "source": [
    "len(gender_dict) - women"
   ]
  },
  {
   "cell_type": "code",
   "execution_count": 23,
   "id": "e16dcd87-1750-4bc3-84ea-2f934c7a5c2a",
   "metadata": {},
   "outputs": [
    {
     "data": {
      "text/plain": [
       "1.0    0.518156\n",
       "0.0    0.481844\n",
       "Name: gender, dtype: float64"
      ]
     },
     "execution_count": 23,
     "metadata": {},
     "output_type": "execute_result"
    }
   ],
   "source": [
    "df_data['gender'].value_counts(normalize=True)"
   ]
  },
  {
   "cell_type": "code",
   "execution_count": 24,
   "id": "c9f6deba-052f-44d6-a807-fb375d5545b6",
   "metadata": {},
   "outputs": [
    {
     "data": {
      "text/plain": [
       "1.0    4024\n",
       "0.0    3742\n",
       "Name: gender, dtype: int64"
      ]
     },
     "execution_count": 24,
     "metadata": {},
     "output_type": "execute_result"
    }
   ],
   "source": [
    "df_data['gender'].value_counts()"
   ]
  },
  {
   "cell_type": "code",
   "execution_count": 25,
   "id": "ded479aa-7f42-485e-8a1b-5b66260960c9",
   "metadata": {},
   "outputs": [],
   "source": [
    "df_map.loc[:, 'mapped_first_name'] = df_map['mapped_author'].apply(extract_first_name)"
   ]
  },
  {
   "cell_type": "code",
   "execution_count": 26,
   "id": "fcca4f06-034b-4982-b7be-aa324beb7ba9",
   "metadata": {},
   "outputs": [],
   "source": [
    "df_map.loc[:, 'author_first_name'] = df_map['author'].apply(extract_first_name)"
   ]
  },
  {
   "cell_type": "code",
   "execution_count": 27,
   "id": "9ca4191e-0fff-45a8-a69e-60d0959f13aa",
   "metadata": {},
   "outputs": [
    {
     "data": {
      "text/html": [
       "<div>\n",
       "<style scoped>\n",
       "    .dataframe tbody tr th:only-of-type {\n",
       "        vertical-align: middle;\n",
       "    }\n",
       "\n",
       "    .dataframe tbody tr th {\n",
       "        vertical-align: top;\n",
       "    }\n",
       "\n",
       "    .dataframe thead th {\n",
       "        text-align: right;\n",
       "    }\n",
       "</style>\n",
       "<table border=\"1\" class=\"dataframe\">\n",
       "  <thead>\n",
       "    <tr style=\"text-align: right;\">\n",
       "      <th></th>\n",
       "      <th>author</th>\n",
       "      <th>mapped_author</th>\n",
       "      <th>mapped_first_name</th>\n",
       "      <th>author_first_name</th>\n",
       "    </tr>\n",
       "  </thead>\n",
       "  <tbody>\n",
       "    <tr>\n",
       "      <th>0</th>\n",
       "      <td>Chimamanda-Ngozi-Adichie</td>\n",
       "      <td>Bethel Joshua</td>\n",
       "      <td>bethel</td>\n",
       "      <td>chimamanda</td>\n",
       "    </tr>\n",
       "    <tr>\n",
       "      <th>1</th>\n",
       "      <td>Chimamanda-Ngozi-Adichie</td>\n",
       "      <td>Jhumpa Lahiri</td>\n",
       "      <td>jhumpa</td>\n",
       "      <td>chimamanda</td>\n",
       "    </tr>\n",
       "    <tr>\n",
       "      <th>2</th>\n",
       "      <td>Chimamanda-Ngozi-Adichie</td>\n",
       "      <td>Barbara A. Mowat</td>\n",
       "      <td>barbara</td>\n",
       "      <td>chimamanda</td>\n",
       "    </tr>\n",
       "    <tr>\n",
       "      <th>3</th>\n",
       "      <td>Chimamanda-Ngozi-Adichie</td>\n",
       "      <td>Marjane Satrapi</td>\n",
       "      <td>marjane</td>\n",
       "      <td>chimamanda</td>\n",
       "    </tr>\n",
       "    <tr>\n",
       "      <th>4</th>\n",
       "      <td>Chimamanda-Ngozi-Adichie</td>\n",
       "      <td>Khaled Hosseini</td>\n",
       "      <td>khaled</td>\n",
       "      <td>chimamanda</td>\n",
       "    </tr>\n",
       "  </tbody>\n",
       "</table>\n",
       "</div>"
      ],
      "text/plain": [
       "                     author     mapped_author mapped_first_name  \\\n",
       "0  Chimamanda-Ngozi-Adichie     Bethel Joshua            bethel   \n",
       "1  Chimamanda-Ngozi-Adichie     Jhumpa Lahiri            jhumpa   \n",
       "2  Chimamanda-Ngozi-Adichie  Barbara A. Mowat           barbara   \n",
       "3  Chimamanda-Ngozi-Adichie   Marjane Satrapi           marjane   \n",
       "4  Chimamanda-Ngozi-Adichie   Khaled Hosseini            khaled   \n",
       "\n",
       "  author_first_name  \n",
       "0        chimamanda  \n",
       "1        chimamanda  \n",
       "2        chimamanda  \n",
       "3        chimamanda  \n",
       "4        chimamanda  "
      ]
     },
     "execution_count": 27,
     "metadata": {},
     "output_type": "execute_result"
    }
   ],
   "source": [
    "df_map.head()"
   ]
  },
  {
   "cell_type": "code",
   "execution_count": 28,
   "id": "4f3d3d0b-379f-4409-b4aa-803c440b03df",
   "metadata": {},
   "outputs": [],
   "source": [
    "df_map['author_gender'] = df_map['author_first_name'].map(gender_dict)\n",
    "df_map['mapped_author_gender'] = df_map['mapped_first_name'].map(gender_dict)"
   ]
  },
  {
   "cell_type": "code",
   "execution_count": 29,
   "id": "0cd5fffa-f768-4f11-be26-1e4f0997ac08",
   "metadata": {},
   "outputs": [
    {
     "name": "stdout",
     "output_type": "stream",
     "text": [
      "<class 'pandas.core.frame.DataFrame'>\n",
      "RangeIndex: 203161 entries, 0 to 203160\n",
      "Data columns (total 6 columns):\n",
      " #   Column                Non-Null Count   Dtype  \n",
      "---  ------                --------------   -----  \n",
      " 0   author                203161 non-null  object \n",
      " 1   mapped_author         203161 non-null  object \n",
      " 2   mapped_first_name     197957 non-null  object \n",
      " 3   author_first_name     198037 non-null  object \n",
      " 4   author_gender         188635 non-null  float64\n",
      " 5   mapped_author_gender  176244 non-null  float64\n",
      "dtypes: float64(2), object(4)\n",
      "memory usage: 9.3+ MB\n"
     ]
    }
   ],
   "source": [
    "df_map.info()"
   ]
  },
  {
   "cell_type": "code",
   "execution_count": 30,
   "id": "754f9ae3-cf22-4d78-a2e2-6ddfb7253b38",
   "metadata": {},
   "outputs": [
    {
     "data": {
      "text/plain": [
       "1.0    0.535756\n",
       "0.0    0.464244\n",
       "Name: author_gender, dtype: float64"
      ]
     },
     "execution_count": 30,
     "metadata": {},
     "output_type": "execute_result"
    }
   ],
   "source": [
    "df_map[df_map['mapped_author_gender'].isna()]['author_gender'].value_counts(normalize=True)"
   ]
  },
  {
   "cell_type": "markdown",
   "id": "14537404-c569-434a-b6c9-ec62a4c67f37",
   "metadata": {},
   "source": [
    "## Where authors' gender is labeled"
   ]
  },
  {
   "cell_type": "code",
   "execution_count": 31,
   "id": "d49d55a2-3fe9-49d0-88aa-ac1c782da589",
   "metadata": {},
   "outputs": [
    {
     "data": {
      "text/plain": [
       "1.0    0.526679\n",
       "0.0    0.473321\n",
       "Name: author_gender, dtype: float64"
      ]
     },
     "execution_count": 31,
     "metadata": {},
     "output_type": "execute_result"
    }
   ],
   "source": [
    "df_map[df_map['author_gender'].notna()]['author_gender'].value_counts(normalize=True)"
   ]
  },
  {
   "cell_type": "code",
   "execution_count": 32,
   "id": "acaec1e2-d403-4b21-ae6a-dd5b67f2bbeb",
   "metadata": {},
   "outputs": [
    {
     "data": {
      "text/plain": [
       "5206"
      ]
     },
     "execution_count": 32,
     "metadata": {},
     "output_type": "execute_result"
    }
   ],
   "source": [
    "df_map[df_map['mapped_author_gender'].isna()]['mapped_author'].nunique()"
   ]
  },
  {
   "cell_type": "code",
   "execution_count": 33,
   "id": "428759cb-d30d-4d72-bae6-2f9f126effbd",
   "metadata": {},
   "outputs": [],
   "source": [
    "df_map_filt = df_map[df_map['author_gender'].notna()]"
   ]
  },
  {
   "cell_type": "code",
   "execution_count": 34,
   "id": "fa1a4942-92ae-425c-b88d-082cb1d021d0",
   "metadata": {},
   "outputs": [
    {
     "data": {
      "text/plain": [
       "0                Bethel Joshua\n",
       "4              Khaled Hosseini\n",
       "11                       Homer\n",
       "12                Mohsin Hamid\n",
       "15             Khaled Hosseini\n",
       "                  ...         \n",
       "203084     Sheree Renée Thomas\n",
       "203089    Jewell Parker Rhodes\n",
       "203112            André Aciman\n",
       "203133              SparkNotes\n",
       "203148      Kivi Leroux Miller\n",
       "Name: mapped_author, Length: 23339, dtype: object"
      ]
     },
     "execution_count": 34,
     "metadata": {},
     "output_type": "execute_result"
    }
   ],
   "source": [
    "df_map_filt[df_map_filt['mapped_author_gender'].isna()]['mapped_author']"
   ]
  },
  {
   "cell_type": "code",
   "execution_count": 35,
   "id": "91805a2d-e176-4947-a187-7e1cd37e137a",
   "metadata": {},
   "outputs": [
    {
     "name": "stdout",
     "output_type": "stream",
     "text": [
      "<class 'pandas.core.frame.DataFrame'>\n",
      "Int64Index: 188635 entries, 0 to 203160\n",
      "Data columns (total 6 columns):\n",
      " #   Column                Non-Null Count   Dtype  \n",
      "---  ------                --------------   -----  \n",
      " 0   author                188635 non-null  object \n",
      " 1   mapped_author         188635 non-null  object \n",
      " 2   mapped_first_name     183806 non-null  object \n",
      " 3   author_first_name     183511 non-null  object \n",
      " 4   author_gender         188635 non-null  float64\n",
      " 5   mapped_author_gender  165296 non-null  float64\n",
      "dtypes: float64(2), object(4)\n",
      "memory usage: 10.1+ MB\n"
     ]
    }
   ],
   "source": [
    "df_map_filt.info()"
   ]
  },
  {
   "cell_type": "code",
   "execution_count": 36,
   "id": "81222c94-5ce4-4e10-8850-9f9abe187fb7",
   "metadata": {},
   "outputs": [
    {
     "name": "stdout",
     "output_type": "stream",
     "text": [
      "1 5077\n",
      "0 5157\n"
     ]
    }
   ],
   "source": [
    "for gender in [1, 0]: \n",
    "    print(gender, df_map_filt[df_map_filt['author_gender'] == gender]['author'].nunique())"
   ]
  },
  {
   "cell_type": "code",
   "execution_count": 37,
   "id": "03b92134-5c8c-40e2-831b-f068c86bd8ce",
   "metadata": {},
   "outputs": [
    {
     "name": "stdout",
     "output_type": "stream",
     "text": [
      "1 19.56864289935001\n",
      "0 17.31336048089975\n"
     ]
    }
   ],
   "source": [
    "for gender in [1, 0]: \n",
    "    print(gender, (df_map_filt['author_gender'] == gender).sum() / df_map_filt[df_map_filt['author_gender'] == gender]['author'].nunique())"
   ]
  },
  {
   "cell_type": "markdown",
   "id": "8c2b005b-da41-4a3e-af41-a884e44f46ab",
   "metadata": {},
   "source": [
    "The average number of mappings for women authors is 19.6 and 17.3 for men authors. "
   ]
  },
  {
   "cell_type": "markdown",
   "id": "e51b5d01-88b8-41d6-ac96-287c432ef944",
   "metadata": {},
   "source": [
    "## Find the gender ratio for the mapped men and women authors."
   ]
  },
  {
   "cell_type": "code",
   "execution_count": 41,
   "id": "477e6198-9a0a-43a4-aa22-a4276980a0ad",
   "metadata": {},
   "outputs": [
    {
     "data": {
      "text/plain": [
       "1.0    0.717477\n",
       "0.0    0.282523\n",
       "Name: mapped_author_gender, dtype: float64"
      ]
     },
     "execution_count": 41,
     "metadata": {},
     "output_type": "execute_result"
    }
   ],
   "source": [
    "# for women authors\n",
    "gender = 1.0\n",
    "author_gender_filt = (df_map_filt['author_gender'] == gender)\n",
    "\n",
    "df_map_filt[author_gender_filt]['mapped_author_gender'].value_counts(normalize=True)"
   ]
  },
  {
   "cell_type": "code",
   "execution_count": 40,
   "id": "174d8bc2-cb55-4c53-8548-a37de81814fa",
   "metadata": {},
   "outputs": [
    {
     "data": {
      "text/plain": [
       "0.0    0.726042\n",
       "1.0    0.273958\n",
       "Name: mapped_author_gender, dtype: float64"
      ]
     },
     "execution_count": 40,
     "metadata": {},
     "output_type": "execute_result"
    }
   ],
   "source": [
    "# For men authors\n",
    "gender = 0.0\n",
    "author_gender_filt = (df_map_filt['author_gender'] == gender)\n",
    "\n",
    "df_map_filt[author_gender_filt]['mapped_author_gender'].value_counts(normalize=True)"
   ]
  },
  {
   "cell_type": "code",
   "execution_count": null,
   "id": "ea32445d-c3d7-45fd-96de-de9b8c91faaa",
   "metadata": {},
   "outputs": [],
   "source": []
  }
 ],
 "metadata": {
  "kernelspec": {
   "display_name": "Python 3 (ipykernel)",
   "language": "python",
   "name": "python3"
  },
  "language_info": {
   "codemirror_mode": {
    "name": "ipython",
    "version": 3
   },
   "file_extension": ".py",
   "mimetype": "text/x-python",
   "name": "python",
   "nbconvert_exporter": "python",
   "pygments_lexer": "ipython3",
   "version": "3.10.6"
  }
 },
 "nbformat": 4,
 "nbformat_minor": 5
}
