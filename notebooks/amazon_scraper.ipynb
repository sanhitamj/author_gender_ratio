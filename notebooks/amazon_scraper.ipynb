{
 "cells": [
  {
   "cell_type": "code",
   "execution_count": null,
   "id": "397ededf-0a3c-499c-a1fd-ce4ebad14fe3",
   "metadata": {},
   "outputs": [],
   "source": [
    "from bs4 import BeautifulSoup as BSHTML\n",
    "import pandas as pd\n",
    "from urllib.request import urlopen"
   ]
  },
  {
   "cell_type": "code",
   "execution_count": null,
   "id": "28c95b1c-17d0-4902-9861-5db3c12008f8",
   "metadata": {},
   "outputs": [],
   "source": [
    "df = pd.DataFrame()\n",
    "data_dict = {}\n",
    "\n",
    "author_urls = {\n",
    "    'Chimamanda-Ngozi-Adichie': \"Chimamanda-Ngozi-Adichie/e/B00PODW5UG\",\n",
    "    # 'Elise Bohan': \"https://www.amazon.com/Elise-Bohan/e/B09X6CPCYR\"\n",
    "}\n",
    "\n",
    "# Get the HTML source\n",
    "\n",
    "author_url_prefix = 'https://www.amazon.com/'\n",
    "author = 'Chimamanda-Ngozi-Adichie'\n",
    "page = urlopen(author_url_prefix + author_urls[author])\n",
    "soup = BSHTML(page)"
   ]
  },
  {
   "cell_type": "code",
   "execution_count": null,
   "id": "c18c5e56-c255-4896-91ce-0e4ce655337d",
   "metadata": {},
   "outputs": [],
   "source": [
    "\n",
    "data_dict[author] = {}\n",
    "\n",
    "# This dictionary structure - \n",
    "# key - the name of the author\n",
    "# value is a dictionary again \n",
    "# dictionary key - name of the recommended author, img_url, amazon page url"
   ]
  },
  {
   "cell_type": "code",
   "execution_count": null,
   "id": "e83f6d28-2c60-4b3c-be9b-f5fcffb231e3",
   "metadata": {},
   "outputs": [],
   "source": [
    "# Get the list of authors, and their image URLs\n",
    "# from the soup. \n",
    "\n",
    "rec_authors = []\n",
    "auth_img = []\n",
    "for item in soup.find_all(class_=\"authorListImage\"):\n",
    "    rec_auth = item[\"alt\"]\n",
    "    rec_authors.append(rec_auth)\n",
    "    \n",
    "    data_dict[author][rec_auth] = []\n",
    "    data_dict[author][rec_auth].append(item[\"src\"])\n",
    "\n",
    "\n",
    "# data_dict"
   ]
  },
  {
   "cell_type": "code",
   "execution_count": null,
   "id": "a58d9fa2-ef02-469a-9576-3dadfd64c340",
   "metadata": {},
   "outputs": [],
   "source": []
  },
  {
   "cell_type": "code",
   "execution_count": null,
   "id": "395058ef-a2d7-4727-8d0b-83a251193c06",
   "metadata": {},
   "outputs": [],
   "source": [
    "# The soups gives a lot of links; need to collect only the ones with author names\n",
    "# in certain format. Get that format first.\n",
    "auth_links = []\n",
    "auth_link_names = {}\n",
    "for auth in rec_authors:\n",
    "    auth_link_names[auth] = (\"-\".join(n.strip().replace('.', '') for n in auth.split()))\n",
    "\n",
    "for item in soup.findAll(class_=\"a-link-normal\"):\n",
    "    if '/e/' in item[\"href\"]:\n",
    "        link = item[\"href\"]\n",
    "        idx = link.find('?ref=')\n",
    "        if idx > 0:\n",
    "            link = link[:idx]\n",
    "        auth_links.append(link)\n",
    "\n",
    "auth_links = list(set(auth_links))\n",
    "\n",
    "for rec_auth, link in auth_link_names.items():\n",
    "    for auth_link in auth_links:\n",
    "        if link in auth_link:\n",
    "            data_dict[author][rec_auth].append(auth_link)\n",
    "            author_urls[rec_auth] = auth_link\n",
    "\n",
    "# This will ensure that for all the recommended authors, their links are found\n",
    "# assert(len(auth_link_names) == 0)\n",
    "\n"
   ]
  },
  {
   "cell_type": "code",
   "execution_count": null,
   "id": "be4b270a-a9b7-4c9a-ad01-b1b432c623b0",
   "metadata": {},
   "outputs": [],
   "source": []
  },
  {
   "cell_type": "code",
   "execution_count": null,
   "id": "2d9ead9f-0b00-4b20-92f5-490f79ca4898",
   "metadata": {},
   "outputs": [],
   "source": []
  },
  {
   "cell_type": "code",
   "execution_count": null,
   "id": "0da82efc-ea9b-42d7-81ba-eb334cd93659",
   "metadata": {},
   "outputs": [],
   "source": [
    "for item in soup.find('span', {'id': 'author_biography'}):\n",
    "    print (item.text.strip())"
   ]
  },
  {
   "cell_type": "code",
   "execution_count": null,
   "id": "00db7666-c5c1-4844-aabe-6262ddb9bfd0",
   "metadata": {},
   "outputs": [],
   "source": [
    "df = pd.DataFrame.from_dict(data_dict[author], orient='index').reset_index()"
   ]
  },
  {
   "cell_type": "code",
   "execution_count": null,
   "id": "b0289fe3-7afd-4f11-ba31-9ca48b6102e8",
   "metadata": {},
   "outputs": [],
   "source": [
    "df.columns = ['recommended_author', 'img_url', 'author_url']\n",
    "df.loc[:, 'author'] = author\n",
    "columns = ['author', 'recommended_author', 'img_url', 'author_url'] \n",
    "df[columns]"
   ]
  },
  {
   "cell_type": "code",
   "execution_count": 1,
   "id": "ab440992-50be-4d3f-835b-5d79d1a9d589",
   "metadata": {},
   "outputs": [],
   "source": [
    "from scraper import AmazonScraper\n",
    "import pandas as pd"
   ]
  },
  {
   "cell_type": "code",
   "execution_count": 2,
   "id": "20bb4adc-53e3-404e-a08d-b8c37a5280fe",
   "metadata": {},
   "outputs": [],
   "source": [
    "scraper = AmazonScraper()\n",
    "scraper.write_dataframes()"
   ]
  },
  {
   "cell_type": "code",
   "execution_count": 3,
   "id": "89a2381f-9842-4489-9577-7914d4f7112a",
   "metadata": {},
   "outputs": [
    {
     "name": "stdout",
     "output_type": "stream",
     "text": [
      "Chimamanda-Ngozi-Adichie\n"
     ]
    }
   ],
   "source": [
    "soup = scr.get_soup()\n",
    "rec_authors = scr.get_authors_img_urls(soup, author=\"Chimamanda-Ngozi-Adichie\")\n",
    "scr.get_author_urls(soup, rec_authors)\n",
    "# scr.scrape_authors\n",
    "scr.scrape_about_author(soup, author=\"Chimamanda-Ngozi-Adichie\")"
   ]
  },
  {
   "cell_type": "code",
   "execution_count": 4,
   "id": "a31c40e4-f14e-4a2f-9b88-9c02f9843e0e",
   "metadata": {},
   "outputs": [
    {
     "data": {
      "text/plain": [
       "{'Chimamanda-Ngozi-Adichie': ['Bethel Joshua',\n",
       "  'Jhumpa Lahiri',\n",
       "  'Barbara A. Mowat',\n",
       "  'Marjane Satrapi',\n",
       "  'Yaa Gyasi',\n",
       "  'Khaled Hosseini',\n",
       "  'Louise Erdrich',\n",
       "  'Toni Morrison',\n",
       "  'Homer',\n",
       "  'Mohsin Hamid',\n",
       "  'Julius Lester']}"
      ]
     },
     "execution_count": 4,
     "metadata": {},
     "output_type": "execute_result"
    }
   ],
   "source": [
    "scr.author_mapping"
   ]
  },
  {
   "cell_type": "code",
   "execution_count": 5,
   "id": "36d5cf40-9391-4188-9650-09c3627a5e30",
   "metadata": {},
   "outputs": [
    {
     "data": {
      "text/plain": [
       "{'Chimamanda-Ngozi-Adichie': {'author_url': 'Chimamanda-Ngozi-Adichie/e/B00PODW5UG',\n",
       "  'img_url': 'https://m.media-amazon.com/images/S/amzn-author-media-prod/fbj91cmerepo1mce3chcvrpqqc._SX450_.jpg',\n",
       "  'about': \"CHIMAMANDA NGOZI ADICHIE's work has appeared in numerous publications, including The New Yorker and Granta. She is the author of the novels Purple Hibiscus; Half of a Yellow Sun, which won the Orange Prize; Americanah, which won the NBCC Award and was a New York Times, Washington Post, Chicago Tribune, and Entertainment Weekly Best Book of the Year; the story collection The Thing Around Your Neck; and the essay We Should All Be Feminists. A recipient of a MacArthur Fellowship, she divides her time between the United States and Nigeria.\"},\n",
       " 'Bethel Joshua': {'img_url': 'https://m.media-amazon.com/images/S/amzn-author-media-prod/gsqut2oo1dmlbs9uh3pt736le6.jpg',\n",
       "  'author_url': '/Bethel-Joshua/e/B0B9FP3WCG'},\n",
       " 'Jhumpa Lahiri': {'img_url': 'https://m.media-amazon.com/images/I/61-3-dPgGfL.jpg',\n",
       "  'author_url': '/Jhumpa-Lahiri/e/B001H6GTG0'},\n",
       " 'Barbara A. Mowat': {'img_url': 'https://m.media-amazon.com/images/I/51z8ocAA75L.jpg',\n",
       "  'author_url': '/Barbara-A-Mowat/e/B001IOH98I'},\n",
       " 'Marjane Satrapi': {'img_url': 'https://m.media-amazon.com/images/I/51z6DF+kRpL.jpg',\n",
       "  'author_url': '/Marjane-Satrapi/e/B001IGFN9I'},\n",
       " 'Yaa Gyasi': {'img_url': 'https://m.media-amazon.com/images/I/41aFsWMHGmL.jpg',\n",
       "  'author_url': '/Yaa-Gyasi/e/B01MZ40HXZ'},\n",
       " 'Khaled Hosseini': {'img_url': 'https://m.media-amazon.com/images/I/31M4JeJpTgL.jpg',\n",
       "  'author_url': '/Khaled-Hosseini/e/B001HCX9N0'},\n",
       " 'Louise Erdrich': {'img_url': 'https://m.media-amazon.com/images/I/61BwJXBudxL.jpg',\n",
       "  'author_url': '/Louise-Erdrich/e/B000APV798'},\n",
       " 'Toni Morrison': {'img_url': 'https://m.media-amazon.com/images/I/31DmLlzXyML.jpg',\n",
       "  'author_url': '/Toni-Morrison/e/B000APT7NQ'},\n",
       " 'Homer': {'img_url': 'https://m.media-amazon.com/images/S/amzn-author-media-prod/2akv021l36qn40g2mqg09vt6cq.jpg',\n",
       "  'author_url': '/Homer/e/B000AP7OK4'},\n",
       " 'Mohsin Hamid': {'img_url': 'https://m.media-amazon.com/images/I/61+VDO9XlKL.jpg',\n",
       "  'author_url': '/Mohsin-Hamid/e/B001J3MU1Y'},\n",
       " 'Julius Lester': {'img_url': 'https://m.media-amazon.com/images/I/317gyDKWaFL.jpg',\n",
       "  'author_url': '/Julius-Lester/e/B000APHAR6'}}"
      ]
     },
     "execution_count": 5,
     "metadata": {},
     "output_type": "execute_result"
    }
   ],
   "source": [
    "scr.author_data"
   ]
  },
  {
   "cell_type": "code",
   "execution_count": 1,
   "id": "a05fcf81-dcb3-4378-9165-5bf6e2668458",
   "metadata": {},
   "outputs": [
    {
     "name": "stdout",
     "output_type": "stream",
     "text": [
      "Chimamanda-Ngozi-Adichie\n",
      "Julius Lester\n",
      "Elie Wiesel\n",
      "John Steinbeck\n",
      "William Golding\n",
      "Budget Classics\n",
      "Ernest Hemingway\n",
      "Louise Erdrich\n",
      "Cormac McCarthy\n",
      "Natalie Diaz\n",
      "Anne Tyler\n",
      "Victoria M. Chang\n",
      "Bethel Joshua\n",
      "Henry David Thoreau\n",
      "Ross Gay\n",
      "George Orwell\n",
      "Ray Bradbury\n",
      "Jodi Picoult\n",
      "Bob Neufeld\n",
      "Mary Oliver\n",
      "Terry Tempest Williams\n",
      "Becky Cloonan\n",
      "Alexander McCall Smith\n",
      "Anthony Horowitz\n",
      "Shandonpress\n",
      "Jacqueline Winspear\n",
      "Rocket Classic Collection\n",
      "Eoin Colfer\n",
      "Brandon Mull\n",
      "Michael Moreci\n",
      "Karen Baugh Menuhin\n",
      "Donna Everhart\n",
      "Charles Finch\n",
      "Eliot Schrefer\n",
      "Garth Nix\n",
      "Robin Hobb\n"
     ]
    },
    {
     "ename": "IncompleteRead",
     "evalue": "IncompleteRead(406919 bytes read)",
     "output_type": "error",
     "traceback": [
      "\u001b[0;31m---------------------------------------------------------------------------\u001b[0m",
      "\u001b[0;31mValueError\u001b[0m                                Traceback (most recent call last)",
      "File \u001b[0;32m~/miniconda3/envs/amazon/lib/python3.10/http/client.py:565\u001b[0m, in \u001b[0;36mHTTPResponse._get_chunk_left\u001b[0;34m(self)\u001b[0m\n\u001b[1;32m    564\u001b[0m \u001b[38;5;28;01mtry\u001b[39;00m:\n\u001b[0;32m--> 565\u001b[0m     chunk_left \u001b[38;5;241m=\u001b[39m \u001b[38;5;28;43mself\u001b[39;49m\u001b[38;5;241;43m.\u001b[39;49m\u001b[43m_read_next_chunk_size\u001b[49m\u001b[43m(\u001b[49m\u001b[43m)\u001b[49m\n\u001b[1;32m    566\u001b[0m \u001b[38;5;28;01mexcept\u001b[39;00m \u001b[38;5;167;01mValueError\u001b[39;00m:\n",
      "File \u001b[0;32m~/miniconda3/envs/amazon/lib/python3.10/http/client.py:532\u001b[0m, in \u001b[0;36mHTTPResponse._read_next_chunk_size\u001b[0;34m(self)\u001b[0m\n\u001b[1;32m    531\u001b[0m \u001b[38;5;28;01mtry\u001b[39;00m:\n\u001b[0;32m--> 532\u001b[0m     \u001b[38;5;28;01mreturn\u001b[39;00m \u001b[38;5;28;43mint\u001b[39;49m\u001b[43m(\u001b[49m\u001b[43mline\u001b[49m\u001b[43m,\u001b[49m\u001b[43m \u001b[49m\u001b[38;5;241;43m16\u001b[39;49m\u001b[43m)\u001b[49m\n\u001b[1;32m    533\u001b[0m \u001b[38;5;28;01mexcept\u001b[39;00m \u001b[38;5;167;01mValueError\u001b[39;00m:\n\u001b[1;32m    534\u001b[0m     \u001b[38;5;66;03m# close the connection as protocol synchronisation is\u001b[39;00m\n\u001b[1;32m    535\u001b[0m     \u001b[38;5;66;03m# probably lost\u001b[39;00m\n",
      "\u001b[0;31mValueError\u001b[0m: invalid literal for int() with base 16: b''",
      "\nDuring handling of the above exception, another exception occurred:\n",
      "\u001b[0;31mIncompleteRead\u001b[0m                            Traceback (most recent call last)",
      "File \u001b[0;32m~/miniconda3/envs/amazon/lib/python3.10/http/client.py:582\u001b[0m, in \u001b[0;36mHTTPResponse._read_chunked\u001b[0;34m(self, amt)\u001b[0m\n\u001b[1;32m    581\u001b[0m \u001b[38;5;28;01mwhile\u001b[39;00m \u001b[38;5;28;01mTrue\u001b[39;00m:\n\u001b[0;32m--> 582\u001b[0m     chunk_left \u001b[38;5;241m=\u001b[39m \u001b[38;5;28;43mself\u001b[39;49m\u001b[38;5;241;43m.\u001b[39;49m\u001b[43m_get_chunk_left\u001b[49m\u001b[43m(\u001b[49m\u001b[43m)\u001b[49m\n\u001b[1;32m    583\u001b[0m     \u001b[38;5;28;01mif\u001b[39;00m chunk_left \u001b[38;5;129;01mis\u001b[39;00m \u001b[38;5;28;01mNone\u001b[39;00m:\n",
      "File \u001b[0;32m~/miniconda3/envs/amazon/lib/python3.10/http/client.py:567\u001b[0m, in \u001b[0;36mHTTPResponse._get_chunk_left\u001b[0;34m(self)\u001b[0m\n\u001b[1;32m    566\u001b[0m \u001b[38;5;28;01mexcept\u001b[39;00m \u001b[38;5;167;01mValueError\u001b[39;00m:\n\u001b[0;32m--> 567\u001b[0m     \u001b[38;5;28;01mraise\u001b[39;00m IncompleteRead(\u001b[38;5;124mb\u001b[39m\u001b[38;5;124m'\u001b[39m\u001b[38;5;124m'\u001b[39m)\n\u001b[1;32m    568\u001b[0m \u001b[38;5;28;01mif\u001b[39;00m chunk_left \u001b[38;5;241m==\u001b[39m \u001b[38;5;241m0\u001b[39m:\n\u001b[1;32m    569\u001b[0m     \u001b[38;5;66;03m# last chunk: 1*(\"0\") [ chunk-extension ] CRLF\u001b[39;00m\n",
      "\u001b[0;31mIncompleteRead\u001b[0m: IncompleteRead(0 bytes read)",
      "\nDuring handling of the above exception, another exception occurred:\n",
      "\u001b[0;31mIncompleteRead\u001b[0m                            Traceback (most recent call last)",
      "Input \u001b[0;32mIn [1]\u001b[0m, in \u001b[0;36m<cell line: 11>\u001b[0;34m()\u001b[0m\n\u001b[1;32m     14\u001b[0m \u001b[38;5;28;01mif\u001b[39;00m scr\u001b[38;5;241m.\u001b[39mauthor_data[rec_author]\u001b[38;5;241m.\u001b[39mget(\u001b[38;5;124m\"\u001b[39m\u001b[38;5;124mauthor_url\u001b[39m\u001b[38;5;124m\"\u001b[39m) \u001b[38;5;129;01mand\u001b[39;00m \u001b[38;5;129;01mnot\u001b[39;00m scr\u001b[38;5;241m.\u001b[39mauthor_data[rec_author]\u001b[38;5;241m.\u001b[39mget(\u001b[38;5;124m\"\u001b[39m\u001b[38;5;124mabout\u001b[39m\u001b[38;5;124m\"\u001b[39m):\n\u001b[1;32m     15\u001b[0m     \u001b[38;5;28mprint\u001b[39m (rec_author)\n\u001b[0;32m---> 17\u001b[0m     soup \u001b[38;5;241m=\u001b[39m \u001b[43mscr\u001b[49m\u001b[38;5;241;43m.\u001b[39;49m\u001b[43mget_soup\u001b[49m\u001b[43m(\u001b[49m\u001b[43mauthor\u001b[49m\u001b[38;5;241;43m=\u001b[39;49m\u001b[43mrec_author\u001b[49m\u001b[43m)\u001b[49m\n\u001b[1;32m     18\u001b[0m     rec_authors \u001b[38;5;241m=\u001b[39m scr\u001b[38;5;241m.\u001b[39mget_authors_img_urls(soup, author\u001b[38;5;241m=\u001b[39mrec_author)\n\u001b[1;32m     19\u001b[0m     scr\u001b[38;5;241m.\u001b[39mget_author_urls(soup, rec_authors)\n",
      "File \u001b[0;32m~/github/random_works/author_gender_ratio/scraper.py:42\u001b[0m, in \u001b[0;36mAmazonScraper.get_soup\u001b[0;34m(self, author)\u001b[0m\n\u001b[1;32m     39\u001b[0m \u001b[38;5;28;01mdef\u001b[39;00m \u001b[38;5;21mget_soup\u001b[39m(\u001b[38;5;28mself\u001b[39m, author\u001b[38;5;241m=\u001b[39m\u001b[38;5;124m\"\u001b[39m\u001b[38;5;124mChimamanda-Ngozi-Adichie\u001b[39m\u001b[38;5;124m\"\u001b[39m):\n\u001b[1;32m     41\u001b[0m     page \u001b[38;5;241m=\u001b[39m urlopen(\u001b[38;5;28mself\u001b[39m\u001b[38;5;241m.\u001b[39mauthor_url_prefix \u001b[38;5;241m+\u001b[39m \u001b[38;5;28mself\u001b[39m\u001b[38;5;241m.\u001b[39mauthor_data[author][\u001b[38;5;124m\"\u001b[39m\u001b[38;5;124mauthor_url\u001b[39m\u001b[38;5;124m\"\u001b[39m])\n\u001b[0;32m---> 42\u001b[0m     soup \u001b[38;5;241m=\u001b[39m \u001b[43mBSHTML\u001b[49m\u001b[43m(\u001b[49m\u001b[43mpage\u001b[49m\u001b[43m,\u001b[49m\u001b[43m \u001b[49m\u001b[43mfeatures\u001b[49m\u001b[38;5;241;43m=\u001b[39;49m\u001b[38;5;124;43m\"\u001b[39;49m\u001b[38;5;124;43mhtml.parser\u001b[39;49m\u001b[38;5;124;43m\"\u001b[39;49m\u001b[43m)\u001b[49m\n\u001b[1;32m     43\u001b[0m     \u001b[38;5;28;01mreturn\u001b[39;00m soup\n",
      "File \u001b[0;32m~/miniconda3/envs/amazon/lib/python3.10/site-packages/bs4/__init__.py:312\u001b[0m, in \u001b[0;36mBeautifulSoup.__init__\u001b[0;34m(self, markup, features, builder, parse_only, from_encoding, exclude_encodings, element_classes, **kwargs)\u001b[0m\n\u001b[1;32m    309\u001b[0m \u001b[38;5;28mself\u001b[39m\u001b[38;5;241m.\u001b[39mparse_only \u001b[38;5;241m=\u001b[39m parse_only\n\u001b[1;32m    311\u001b[0m \u001b[38;5;28;01mif\u001b[39;00m \u001b[38;5;28mhasattr\u001b[39m(markup, \u001b[38;5;124m'\u001b[39m\u001b[38;5;124mread\u001b[39m\u001b[38;5;124m'\u001b[39m):        \u001b[38;5;66;03m# It's a file-type object.\u001b[39;00m\n\u001b[0;32m--> 312\u001b[0m     markup \u001b[38;5;241m=\u001b[39m \u001b[43mmarkup\u001b[49m\u001b[38;5;241;43m.\u001b[39;49m\u001b[43mread\u001b[49m\u001b[43m(\u001b[49m\u001b[43m)\u001b[49m\n\u001b[1;32m    313\u001b[0m \u001b[38;5;28;01melif\u001b[39;00m \u001b[38;5;28mlen\u001b[39m(markup) \u001b[38;5;241m<\u001b[39m\u001b[38;5;241m=\u001b[39m \u001b[38;5;241m256\u001b[39m \u001b[38;5;129;01mand\u001b[39;00m (\n\u001b[1;32m    314\u001b[0m         (\u001b[38;5;28misinstance\u001b[39m(markup, \u001b[38;5;28mbytes\u001b[39m) \u001b[38;5;129;01mand\u001b[39;00m \u001b[38;5;129;01mnot\u001b[39;00m \u001b[38;5;124mb\u001b[39m\u001b[38;5;124m'\u001b[39m\u001b[38;5;124m<\u001b[39m\u001b[38;5;124m'\u001b[39m \u001b[38;5;129;01min\u001b[39;00m markup)\n\u001b[1;32m    315\u001b[0m         \u001b[38;5;129;01mor\u001b[39;00m (\u001b[38;5;28misinstance\u001b[39m(markup, \u001b[38;5;28mstr\u001b[39m) \u001b[38;5;129;01mand\u001b[39;00m \u001b[38;5;129;01mnot\u001b[39;00m \u001b[38;5;124m'\u001b[39m\u001b[38;5;124m<\u001b[39m\u001b[38;5;124m'\u001b[39m \u001b[38;5;129;01min\u001b[39;00m markup)\n\u001b[0;32m   (...)\u001b[0m\n\u001b[1;32m    319\u001b[0m     \u001b[38;5;66;03m# Beautiful Soup will still parse the input as markup,\u001b[39;00m\n\u001b[1;32m    320\u001b[0m     \u001b[38;5;66;03m# since that is sometimes the intended behavior.\u001b[39;00m\n\u001b[1;32m    321\u001b[0m     \u001b[38;5;28;01mif\u001b[39;00m \u001b[38;5;129;01mnot\u001b[39;00m \u001b[38;5;28mself\u001b[39m\u001b[38;5;241m.\u001b[39m_markup_is_url(markup):\n",
      "File \u001b[0;32m~/miniconda3/envs/amazon/lib/python3.10/http/client.py:459\u001b[0m, in \u001b[0;36mHTTPResponse.read\u001b[0;34m(self, amt)\u001b[0m\n\u001b[1;32m    456\u001b[0m     \u001b[38;5;28;01mreturn\u001b[39;00m \u001b[38;5;124mb\u001b[39m\u001b[38;5;124m\"\u001b[39m\u001b[38;5;124m\"\u001b[39m\n\u001b[1;32m    458\u001b[0m \u001b[38;5;28;01mif\u001b[39;00m \u001b[38;5;28mself\u001b[39m\u001b[38;5;241m.\u001b[39mchunked:\n\u001b[0;32m--> 459\u001b[0m     \u001b[38;5;28;01mreturn\u001b[39;00m \u001b[38;5;28;43mself\u001b[39;49m\u001b[38;5;241;43m.\u001b[39;49m\u001b[43m_read_chunked\u001b[49m\u001b[43m(\u001b[49m\u001b[43mamt\u001b[49m\u001b[43m)\u001b[49m\n\u001b[1;32m    461\u001b[0m \u001b[38;5;28;01mif\u001b[39;00m amt \u001b[38;5;129;01mis\u001b[39;00m \u001b[38;5;129;01mnot\u001b[39;00m \u001b[38;5;28;01mNone\u001b[39;00m:\n\u001b[1;32m    462\u001b[0m     \u001b[38;5;28;01mif\u001b[39;00m \u001b[38;5;28mself\u001b[39m\u001b[38;5;241m.\u001b[39mlength \u001b[38;5;129;01mis\u001b[39;00m \u001b[38;5;129;01mnot\u001b[39;00m \u001b[38;5;28;01mNone\u001b[39;00m \u001b[38;5;129;01mand\u001b[39;00m amt \u001b[38;5;241m>\u001b[39m \u001b[38;5;28mself\u001b[39m\u001b[38;5;241m.\u001b[39mlength:\n\u001b[1;32m    463\u001b[0m         \u001b[38;5;66;03m# clip the read to the \"end of response\"\u001b[39;00m\n",
      "File \u001b[0;32m~/miniconda3/envs/amazon/lib/python3.10/http/client.py:597\u001b[0m, in \u001b[0;36mHTTPResponse._read_chunked\u001b[0;34m(self, amt)\u001b[0m\n\u001b[1;32m    595\u001b[0m     \u001b[38;5;28;01mreturn\u001b[39;00m \u001b[38;5;124mb\u001b[39m\u001b[38;5;124m'\u001b[39m\u001b[38;5;124m'\u001b[39m\u001b[38;5;241m.\u001b[39mjoin(value)\n\u001b[1;32m    596\u001b[0m \u001b[38;5;28;01mexcept\u001b[39;00m IncompleteRead:\n\u001b[0;32m--> 597\u001b[0m     \u001b[38;5;28;01mraise\u001b[39;00m IncompleteRead(\u001b[38;5;124mb\u001b[39m\u001b[38;5;124m'\u001b[39m\u001b[38;5;124m'\u001b[39m\u001b[38;5;241m.\u001b[39mjoin(value))\n",
      "\u001b[0;31mIncompleteRead\u001b[0m: IncompleteRead(406919 bytes read)"
     ]
    }
   ],
   "source": [
    "from scraper import AmazonScraper\n",
    "import pandas as pd\n",
    "import time \n",
    "\n",
    "scr = AmazonScraper()\n",
    "\n",
    "counter = 0\n",
    "# for the first author\n",
    "\n",
    "new_authors = [new_author for new_author in scr.author_data]\n",
    "while counter <= 100:\n",
    "    rec_author = new_authors[counter]\n",
    "\n",
    "    if scr.author_data[rec_author].get(\"author_url\") and not scr.author_data[rec_author].get(\"about\"):\n",
    "        print (rec_author)\n",
    "\n",
    "        soup = scr.get_soup(author=rec_author)\n",
    "        rec_authors = scr.get_authors_img_urls(soup, author=rec_author)\n",
    "        scr.get_author_urls(soup, rec_authors)\n",
    "        scr.scrape_about_author(soup, author=rec_author)\n",
    "        time.sleep(3)\n",
    "    counter += 1\n",
    "    new_authors += rec_authors\n",
    "    new_authors = list(set(new_authors))\n",
    "    new_authors.remove(rec_author)\n"
   ]
  },
  {
   "cell_type": "code",
   "execution_count": 16,
   "id": "7016e327-421a-4b6d-9104-921918f90e59",
   "metadata": {},
   "outputs": [
    {
     "data": {
      "text/html": [
       "<div>\n",
       "<style scoped>\n",
       "    .dataframe tbody tr th:only-of-type {\n",
       "        vertical-align: middle;\n",
       "    }\n",
       "\n",
       "    .dataframe tbody tr th {\n",
       "        vertical-align: top;\n",
       "    }\n",
       "\n",
       "    .dataframe thead th {\n",
       "        text-align: right;\n",
       "    }\n",
       "</style>\n",
       "<table border=\"1\" class=\"dataframe\">\n",
       "  <thead>\n",
       "    <tr style=\"text-align: right;\">\n",
       "      <th></th>\n",
       "      <th>author</th>\n",
       "      <th>author_url</th>\n",
       "      <th>img_url</th>\n",
       "      <th>about</th>\n",
       "    </tr>\n",
       "  </thead>\n",
       "  <tbody>\n",
       "    <tr>\n",
       "      <th>0</th>\n",
       "      <td>Chimamanda-Ngozi-Adichie</td>\n",
       "      <td>Chimamanda-Ngozi-Adichie/e/B00PODW5UG</td>\n",
       "      <td>https://m.media-amazon.com/images/S/amzn-autho...</td>\n",
       "      <td>CHIMAMANDA NGOZI ADICHIE's work has appeared i...</td>\n",
       "    </tr>\n",
       "    <tr>\n",
       "      <th>1</th>\n",
       "      <td>Bethel Joshua</td>\n",
       "      <td>/Bethel-Joshua/e/B0B9FP3WCG</td>\n",
       "      <td>https://m.media-amazon.com/images/S/amzn-autho...</td>\n",
       "      <td>NaN</td>\n",
       "    </tr>\n",
       "    <tr>\n",
       "      <th>2</th>\n",
       "      <td>Jhumpa Lahiri</td>\n",
       "      <td>/Jhumpa-Lahiri/e/B001H6GTG0</td>\n",
       "      <td>https://m.media-amazon.com/images/I/61-3-dPgGf...</td>\n",
       "      <td>NaN</td>\n",
       "    </tr>\n",
       "    <tr>\n",
       "      <th>3</th>\n",
       "      <td>Barbara A. Mowat</td>\n",
       "      <td>/Barbara-A-Mowat/e/B001IOH98I</td>\n",
       "      <td>https://m.media-amazon.com/images/I/51z8ocAA75...</td>\n",
       "      <td>NaN</td>\n",
       "    </tr>\n",
       "    <tr>\n",
       "      <th>4</th>\n",
       "      <td>Marjane Satrapi</td>\n",
       "      <td>/Marjane-Satrapi/e/B001IGFN9I</td>\n",
       "      <td>https://m.media-amazon.com/images/I/51z6DF+kRp...</td>\n",
       "      <td>NaN</td>\n",
       "    </tr>\n",
       "    <tr>\n",
       "      <th>...</th>\n",
       "      <td>...</td>\n",
       "      <td>...</td>\n",
       "      <td>...</td>\n",
       "      <td>...</td>\n",
       "    </tr>\n",
       "    <tr>\n",
       "      <th>365</th>\n",
       "      <td>Cameron Stewart</td>\n",
       "      <td>/Cameron-Stewart/e/B0099F2MK8</td>\n",
       "      <td>https://m.media-amazon.com/images/I/A1MZsXpwzW...</td>\n",
       "      <td>NaN</td>\n",
       "    </tr>\n",
       "    <tr>\n",
       "      <th>366</th>\n",
       "      <td>Scott Snyder</td>\n",
       "      <td>/Scott-Snyder/e/B09JVFZ8FD</td>\n",
       "      <td>https://m.media-amazon.com/images/S/amzn-autho...</td>\n",
       "      <td>NaN</td>\n",
       "    </tr>\n",
       "    <tr>\n",
       "      <th>367</th>\n",
       "      <td>Kieron Gillen</td>\n",
       "      <td>/Kieron-Gillen/e/B0034PJOYG</td>\n",
       "      <td>https://m.media-amazon.com/images/S/amzn-autho...</td>\n",
       "      <td>NaN</td>\n",
       "    </tr>\n",
       "    <tr>\n",
       "      <th>368</th>\n",
       "      <td>Tom King</td>\n",
       "      <td>/Tom-King/e/B0066F3XJS</td>\n",
       "      <td>https://m.media-amazon.com/images/S/amzn-autho...</td>\n",
       "      <td>NaN</td>\n",
       "    </tr>\n",
       "    <tr>\n",
       "      <th>369</th>\n",
       "      <td>Cullen Bunn</td>\n",
       "      <td>/Cullen-Bunn/e/B002VX9YRE</td>\n",
       "      <td>https://m.media-amazon.com/images/S/amzn-autho...</td>\n",
       "      <td>NaN</td>\n",
       "    </tr>\n",
       "  </tbody>\n",
       "</table>\n",
       "<p>370 rows × 4 columns</p>\n",
       "</div>"
      ],
      "text/plain": [
       "                       author                             author_url  \\\n",
       "0    Chimamanda-Ngozi-Adichie  Chimamanda-Ngozi-Adichie/e/B00PODW5UG   \n",
       "1               Bethel Joshua            /Bethel-Joshua/e/B0B9FP3WCG   \n",
       "2               Jhumpa Lahiri            /Jhumpa-Lahiri/e/B001H6GTG0   \n",
       "3            Barbara A. Mowat          /Barbara-A-Mowat/e/B001IOH98I   \n",
       "4             Marjane Satrapi          /Marjane-Satrapi/e/B001IGFN9I   \n",
       "..                        ...                                    ...   \n",
       "365           Cameron Stewart          /Cameron-Stewart/e/B0099F2MK8   \n",
       "366              Scott Snyder             /Scott-Snyder/e/B09JVFZ8FD   \n",
       "367             Kieron Gillen            /Kieron-Gillen/e/B0034PJOYG   \n",
       "368                  Tom King                 /Tom-King/e/B0066F3XJS   \n",
       "369               Cullen Bunn              /Cullen-Bunn/e/B002VX9YRE   \n",
       "\n",
       "                                               img_url  \\\n",
       "0    https://m.media-amazon.com/images/S/amzn-autho...   \n",
       "1    https://m.media-amazon.com/images/S/amzn-autho...   \n",
       "2    https://m.media-amazon.com/images/I/61-3-dPgGf...   \n",
       "3    https://m.media-amazon.com/images/I/51z8ocAA75...   \n",
       "4    https://m.media-amazon.com/images/I/51z6DF+kRp...   \n",
       "..                                                 ...   \n",
       "365  https://m.media-amazon.com/images/I/A1MZsXpwzW...   \n",
       "366  https://m.media-amazon.com/images/S/amzn-autho...   \n",
       "367  https://m.media-amazon.com/images/S/amzn-autho...   \n",
       "368  https://m.media-amazon.com/images/S/amzn-autho...   \n",
       "369  https://m.media-amazon.com/images/S/amzn-autho...   \n",
       "\n",
       "                                                 about  \n",
       "0    CHIMAMANDA NGOZI ADICHIE's work has appeared i...  \n",
       "1                                                  NaN  \n",
       "2                                                  NaN  \n",
       "3                                                  NaN  \n",
       "4                                                  NaN  \n",
       "..                                                 ...  \n",
       "365                                                NaN  \n",
       "366                                                NaN  \n",
       "367                                                NaN  \n",
       "368                                                NaN  \n",
       "369                                                NaN  \n",
       "\n",
       "[370 rows x 4 columns]"
      ]
     },
     "execution_count": 16,
     "metadata": {},
     "output_type": "execute_result"
    }
   ],
   "source": [
    "pd.DataFrame.from_dict(scr.author_data).T.reset_index().rename(columns={'index': 'author'})"
   ]
  },
  {
   "cell_type": "code",
   "execution_count": null,
   "id": "67f22a80-95ba-45d9-8e86-475b98dd3b2e",
   "metadata": {},
   "outputs": [],
   "source": []
  }
 ],
 "metadata": {
  "kernelspec": {
   "display_name": "Python 3 (ipykernel)",
   "language": "python",
   "name": "python3"
  },
  "language_info": {
   "codemirror_mode": {
    "name": "ipython",
    "version": 3
   },
   "file_extension": ".py",
   "mimetype": "text/x-python",
   "name": "python",
   "nbconvert_exporter": "python",
   "pygments_lexer": "ipython3",
   "version": "3.10.5"
  }
 },
 "nbformat": 4,
 "nbformat_minor": 5
}
