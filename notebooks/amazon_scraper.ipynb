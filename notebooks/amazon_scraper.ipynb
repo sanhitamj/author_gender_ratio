{
 "cells": [
  {
   "cell_type": "code",
   "execution_count": null,
   "id": "397ededf-0a3c-499c-a1fd-ce4ebad14fe3",
   "metadata": {},
   "outputs": [],
   "source": [
    "from bs4 import BeautifulSoup as BSHTML\n",
    "import pandas as pd\n",
    "from urllib.request import urlopen\n",
    "\n",
    "import sys\n",
    "from scraper import AmazonScraper\n",
    "\n",
    "%reload_ext autoreload\n",
    "%autoreload 2"
   ]
  },
  {
   "cell_type": "code",
   "execution_count": null,
   "id": "a532cea4-24f8-46aa-ad39-186cc298c8f3",
   "metadata": {},
   "outputs": [],
   "source": [
    "sys.path.append('/home/sanhita/github/random_works/author_gender_ratio/')"
   ]
  },
  {
   "cell_type": "code",
   "execution_count": null,
   "id": "acaf4e44-1d8f-4c54-b753-59601ac8912e",
   "metadata": {},
   "outputs": [],
   "source": [
    "scr = AmazonScraper()"
   ]
  },
  {
   "cell_type": "code",
   "execution_count": null,
   "id": "f826e84b-dac9-4f76-80c9-4faa4e0ee0d7",
   "metadata": {},
   "outputs": [],
   "source": [
    "df_data = pd.read_csv(scr.author_data_csv)\n",
    "if 'Unnamed: 0' in df_data.columns:\n",
    "    df_data.drop(columns=['Unnamed: 0'], inplace=True)\n",
    "df_data.loc[df_data[\"about\"].isna(), \"about\"] = 'NA'\n",
    "df_data[\"about\"]"
   ]
  },
  {
   "cell_type": "code",
   "execution_count": null,
   "id": "101d3b3f-b5ca-4c51-9df9-28de5c79e184",
   "metadata": {},
   "outputs": [],
   "source": [
    "df_mapping = pd.read_csv(scr.author_mapping_csv)\n",
    "mapping_dict = df_mapping.set_index('Unnamed: 0').T.to_dict(orient='list')\n",
    "mapping_dict"
   ]
  },
  {
   "cell_type": "code",
   "execution_count": null,
   "id": "d3b77b0f-86fb-4eaf-9810-a92851d13966",
   "metadata": {},
   "outputs": [],
   "source": [
    "new_format_mapping = []\n",
    "for key, values in mapping_dict.items():\n",
    "    for value in values:\n",
    "        if isinstance(value, str):\n",
    "            new_format_mapping.append([key, value])\n",
    "new_format_mapping[13]"
   ]
  },
  {
   "cell_type": "code",
   "execution_count": null,
   "id": "1b7d28b8-0014-4299-8433-f157c7ef1ce6",
   "metadata": {},
   "outputs": [],
   "source": [
    "pd.DataFrame(new_format_mapping)"
   ]
  },
  {
   "cell_type": "code",
   "execution_count": null,
   "id": "38a49919-0fa5-407d-873c-8fa707814fcd",
   "metadata": {},
   "outputs": [],
   "source": []
  }
 ],
 "metadata": {
  "kernelspec": {
   "display_name": "Python 3 (ipykernel)",
   "language": "python",
   "name": "python3"
  },
  "language_info": {
   "codemirror_mode": {
    "name": "ipython",
    "version": 3
   },
   "file_extension": ".py",
   "mimetype": "text/x-python",
   "name": "python",
   "nbconvert_exporter": "python",
   "pygments_lexer": "ipython3",
   "version": "3.10.5"
  }
 },
 "nbformat": 4,
 "nbformat_minor": 5
}
