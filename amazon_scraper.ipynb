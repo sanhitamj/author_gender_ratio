{
 "cells": [
  {
   "cell_type": "code",
   "execution_count": null,
   "id": "397ededf-0a3c-499c-a1fd-ce4ebad14fe3",
   "metadata": {},
   "outputs": [],
   "source": [
    "from bs4 import BeautifulSoup as BSHTML\n",
    "import pandas as pd\n",
    "from urllib.request import urlopen"
   ]
  },
  {
   "cell_type": "code",
   "execution_count": null,
   "id": "28c95b1c-17d0-4902-9861-5db3c12008f8",
   "metadata": {},
   "outputs": [],
   "source": [
    "df = pd.DataFrame()\n",
    "data_dict = {}\n",
    "\n",
    "author_urls = {\n",
    "    'Chimamanda-Ngozi-Adichie': \"Chimamanda-Ngozi-Adichie/e/B00PODW5UG\",\n",
    "    # 'Elise Bohan': \"https://www.amazon.com/Elise-Bohan/e/B09X6CPCYR\"\n",
    "}\n",
    "\n",
    "# Get the HTML source\n",
    "\n",
    "author_url_prefix = 'https://www.amazon.com/'\n",
    "author = 'Chimamanda-Ngozi-Adichie'\n",
    "page = urlopen(author_url_prefix + author_urls[author])\n",
    "soup = BSHTML(page)"
   ]
  },
  {
   "cell_type": "code",
   "execution_count": null,
   "id": "c18c5e56-c255-4896-91ce-0e4ce655337d",
   "metadata": {},
   "outputs": [],
   "source": [
    "\n",
    "data_dict[author] = {}\n",
    "\n",
    "# This dictionary structure - \n",
    "# key - the name of the author\n",
    "# value is a dictionary again \n",
    "# dictionary key - name of the recommended author, img_url, amazon page url"
   ]
  },
  {
   "cell_type": "code",
   "execution_count": null,
   "id": "e83f6d28-2c60-4b3c-be9b-f5fcffb231e3",
   "metadata": {},
   "outputs": [],
   "source": [
    "# Get the list of authors, and their image URLs\n",
    "# from the soup. \n",
    "\n",
    "rec_authors = []\n",
    "auth_img = []\n",
    "for item in soup.find_all(class_=\"authorListImage\"):\n",
    "    rec_auth = item[\"alt\"]\n",
    "    rec_authors.append(rec_auth)\n",
    "    \n",
    "    data_dict[author][rec_auth] = []\n",
    "    data_dict[author][rec_auth].append(item[\"src\"])\n",
    "\n",
    "\n",
    "# data_dict"
   ]
  },
  {
   "cell_type": "code",
   "execution_count": null,
   "id": "a58d9fa2-ef02-469a-9576-3dadfd64c340",
   "metadata": {},
   "outputs": [],
   "source": []
  },
  {
   "cell_type": "code",
   "execution_count": null,
   "id": "395058ef-a2d7-4727-8d0b-83a251193c06",
   "metadata": {},
   "outputs": [],
   "source": [
    "# The soups gives a lot of links; need to collect only the ones with author names\n",
    "# in certain format. Get that format first.\n",
    "auth_links = []\n",
    "auth_link_names = {}\n",
    "for auth in rec_authors:\n",
    "    auth_link_names[auth] = (\"-\".join(n.strip().replace('.', '') for n in auth.split()))\n",
    "\n",
    "for item in soup.findAll(class_=\"a-link-normal\"):\n",
    "    if '/e/' in item[\"href\"]:\n",
    "        link = item[\"href\"]\n",
    "        idx = link.find('?ref=')\n",
    "        if idx > 0:\n",
    "            link = link[:idx]\n",
    "        auth_links.append(link)\n",
    "\n",
    "auth_links = list(set(auth_links))\n",
    "\n",
    "for rec_auth, link in auth_link_names.items():\n",
    "    for auth_link in auth_links:\n",
    "        if link in auth_link:\n",
    "            data_dict[author][rec_auth].append(auth_link)\n",
    "            author_urls[rec_auth] = auth_link\n",
    "\n",
    "# This will ensure that for all the recommended authors, their links are found\n",
    "# assert(len(auth_link_names) == 0)\n",
    "\n"
   ]
  },
  {
   "cell_type": "code",
   "execution_count": null,
   "id": "be4b270a-a9b7-4c9a-ad01-b1b432c623b0",
   "metadata": {},
   "outputs": [],
   "source": []
  },
  {
   "cell_type": "code",
   "execution_count": null,
   "id": "2d9ead9f-0b00-4b20-92f5-490f79ca4898",
   "metadata": {},
   "outputs": [],
   "source": []
  },
  {
   "cell_type": "code",
   "execution_count": null,
   "id": "0da82efc-ea9b-42d7-81ba-eb334cd93659",
   "metadata": {},
   "outputs": [],
   "source": [
    "for item in soup.find('span', {'id': 'author_biography'}):\n",
    "    print (item.text.strip())"
   ]
  },
  {
   "cell_type": "code",
   "execution_count": null,
   "id": "00db7666-c5c1-4844-aabe-6262ddb9bfd0",
   "metadata": {},
   "outputs": [],
   "source": [
    "df = pd.DataFrame.from_dict(data_dict[author], orient='index').reset_index()"
   ]
  },
  {
   "cell_type": "code",
   "execution_count": null,
   "id": "b0289fe3-7afd-4f11-ba31-9ca48b6102e8",
   "metadata": {},
   "outputs": [],
   "source": [
    "df.columns = ['recommended_author', 'img_url', 'author_url']\n",
    "df.loc[:, 'author'] = author\n",
    "columns = ['author', 'recommended_author', 'img_url', 'author_url'] \n",
    "df[columns]"
   ]
  },
  {
   "cell_type": "code",
   "execution_count": null,
   "id": "ab440992-50be-4d3f-835b-5d79d1a9d589",
   "metadata": {},
   "outputs": [],
   "source": []
  }
 ],
 "metadata": {
  "kernelspec": {
   "display_name": "Python 3 (ipykernel)",
   "language": "python",
   "name": "python3"
  },
  "language_info": {
   "codemirror_mode": {
    "name": "ipython",
    "version": 3
   },
   "file_extension": ".py",
   "mimetype": "text/x-python",
   "name": "python",
   "nbconvert_exporter": "python",
   "pygments_lexer": "ipython3",
   "version": "3.10.5"
  }
 },
 "nbformat": 4,
 "nbformat_minor": 5
}
